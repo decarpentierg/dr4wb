{
 "cells": [
  {
   "cell_type": "code",
   "execution_count": 29,
   "id": "54138770",
   "metadata": {},
   "outputs": [],
   "source": [
    "from main import *\n",
    "import ot.plot\n",
    "import matplotlib.pyplot as plt"
   ]
  },
  {
   "cell_type": "code",
   "execution_count": 46,
   "id": "ae90f070",
   "metadata": {},
   "outputs": [
    {
     "name": "stderr",
     "output_type": "stream",
     "text": [
      "RESULT MIGHT BE INACURATE\n",
      "Max number of iteration reached, currently 1. Sometimes iterations go on in cycle even though the solution has been reached, to check if it's the case here have a look at the minimal reduced cost. If it is very close to machine precision, you might actually have the correct solution, if not try setting the maximum number of iterations a bit higher\n",
      "/home/gonzague/.local/lib/python3.8/site-packages/ot/lp/__init__.py:343: UserWarning: numItermax reached before optimality. Try to increase numItermax.\n",
      "  result_code_string = check_result(result_code)\n"
     ]
    }
   ],
   "source": [
    "g, l = ot.emd(weights, weights, M, numItermax=1, log=True)"
   ]
  },
  {
   "cell_type": "code",
   "execution_count": 50,
   "id": "1b98d18e",
   "metadata": {},
   "outputs": [
    {
     "data": {
      "text/plain": [
       "dict_keys(['cost', 'u', 'v', 'warning', 'result_code'])"
      ]
     },
     "execution_count": 50,
     "metadata": {},
     "output_type": "execute_result"
    }
   ],
   "source": [
    "l.keys()"
   ]
  },
  {
   "cell_type": "code",
   "execution_count": 45,
   "id": "ff6040ad",
   "metadata": {},
   "outputs": [
    {
     "name": "stdout",
     "output_type": "stream",
     "text": [
      "Help on function emd in module ot.lp:\n",
      "\n",
      "emd(a, b, M, numItermax=100000, log=False, center_dual=True, numThreads=1)\n",
      "    Solves the Earth Movers distance problem and returns the OT matrix\n",
      "    \n",
      "    \n",
      "    .. math::\n",
      "        \\gamma = \\mathop{\\arg \\min}_\\gamma \\quad \\langle \\gamma, \\mathbf{M} \\rangle_F\n",
      "    \n",
      "        s.t. \\ \\gamma \\mathbf{1} = \\mathbf{a}\n",
      "    \n",
      "             \\gamma^T \\mathbf{1} = \\mathbf{b}\n",
      "    \n",
      "             \\gamma \\geq 0\n",
      "    \n",
      "    where :\n",
      "    \n",
      "    - :math:`\\mathbf{M}` is the metric cost matrix\n",
      "    - :math:`\\mathbf{a}` and :math:`\\mathbf{b}` are the sample weights\n",
      "    \n",
      "    .. warning:: Note that the :math:`\\mathbf{M}` matrix in numpy needs to be a C-order\n",
      "        numpy.array in float64 format. It will be converted if not in this\n",
      "        format\n",
      "    \n",
      "    .. note:: This function is backend-compatible and will work on arrays\n",
      "        from all compatible backends. But the algorithm uses the C++ CPU backend\n",
      "        which can lead to copy overhead on GPU arrays.\n",
      "    \n",
      "    .. note:: This function will cast the computed transport plan to the data type\n",
      "        of the provided input with the following priority: :math:`\\mathbf{a}`,\n",
      "        then :math:`\\mathbf{b}`, then :math:`\\mathbf{M}` if marginals are not provided.\n",
      "        Casting to an integer tensor might result in a loss of precision.\n",
      "        If this behaviour is unwanted, please make sure to provide a\n",
      "        floating point input.\n",
      "    \n",
      "    Uses the algorithm proposed in :ref:`[1] <references-emd>`.\n",
      "    \n",
      "    Parameters\n",
      "    ----------\n",
      "    a : (ns,) array-like, float\n",
      "        Source histogram (uniform weight if empty list)\n",
      "    b : (nt,) array-like, float\n",
      "        Target histogram (uniform weight if empty list)\n",
      "    M : (ns,nt) array-like, float\n",
      "        Loss matrix (c-order array in numpy with type float64)\n",
      "    numItermax : int, optional (default=100000)\n",
      "        The maximum number of iterations before stopping the optimization\n",
      "        algorithm if it has not converged.\n",
      "    log: bool, optional (default=False)\n",
      "        If True, returns a dictionary containing the cost and dual variables.\n",
      "        Otherwise returns only the optimal transportation matrix.\n",
      "    center_dual: boolean, optional (default=True)\n",
      "        If True, centers the dual potential using function\n",
      "        :ref:`center_ot_dual`.\n",
      "    numThreads: int or \"max\", optional (default=1, i.e. OpenMP is not used)\n",
      "        If compiled with OpenMP, chooses the number of threads to parallelize.\n",
      "        \"max\" selects the highest number possible.\n",
      "    \n",
      "    Returns\n",
      "    -------\n",
      "    gamma: array-like, shape (ns, nt)\n",
      "        Optimal transportation matrix for the given\n",
      "        parameters\n",
      "    log: dict, optional\n",
      "        If input log is true, a dictionary containing the\n",
      "        cost and dual variables and exit status\n",
      "    \n",
      "    \n",
      "    Examples\n",
      "    --------\n",
      "    \n",
      "    Simple example with obvious solution. The function emd accepts lists and\n",
      "    perform automatic conversion to numpy arrays\n",
      "    \n",
      "    >>> import ot\n",
      "    >>> a=[.5,.5]\n",
      "    >>> b=[.5,.5]\n",
      "    >>> M=[[0.,1.],[1.,0.]]\n",
      "    >>> ot.emd(a, b, M)\n",
      "    array([[0.5, 0. ],\n",
      "           [0. , 0.5]])\n",
      "    \n",
      "    \n",
      "    .. _references-emd:\n",
      "    References\n",
      "    ----------\n",
      "    .. [1] Bonneel, N., Van De Panne, M., Paris, S., & Heidrich, W. (2011,\n",
      "        December).  Displacement interpolation using Lagrangian mass transport.\n",
      "        In ACM Transactions on Graphics (TOG) (Vol. 30, No. 6, p. 158). ACM.\n",
      "    \n",
      "    See Also\n",
      "    --------\n",
      "    ot.bregman.sinkhorn : Entropic regularized OT\n",
      "    ot.optim.cg : General regularized OT\n",
      "\n"
     ]
    }
   ],
   "source": [
    "help(ot.emd)"
   ]
  },
  {
   "cell_type": "code",
   "execution_count": 15,
   "id": "ffd07f01",
   "metadata": {},
   "outputs": [],
   "source": [
    "%matplotlib qt"
   ]
  },
  {
   "cell_type": "code",
   "execution_count": 7,
   "id": "de680511",
   "metadata": {},
   "outputs": [
    {
     "data": {
      "text/plain": [
       "52214.07584145879"
      ]
     },
     "execution_count": 7,
     "metadata": {},
     "output_type": "execute_result"
    }
   ],
   "source": [
    "log[\"cost\"]"
   ]
  },
  {
   "cell_type": "code",
   "execution_count": 8,
   "id": "81a5840d",
   "metadata": {},
   "outputs": [
    {
     "data": {
      "text/plain": [
       "34921.60437129016"
      ]
     },
     "execution_count": 8,
     "metadata": {},
     "output_type": "execute_result"
    }
   ],
   "source": [
    "log_[\"cost\"]"
   ]
  },
  {
   "cell_type": "code",
   "execution_count": 44,
   "id": "8a6d482d",
   "metadata": {},
   "outputs": [
    {
     "data": {
      "text/plain": [
       "1.096872361823404"
      ]
     },
     "execution_count": 44,
     "metadata": {},
     "output_type": "execute_result"
    }
   ],
   "source": [
    "np.sum(gamma_ * M) / np.sum(gamma * M)"
   ]
  },
  {
   "cell_type": "code",
   "execution_count": 36,
   "id": "9332e7d0",
   "metadata": {},
   "outputs": [],
   "source": [
    "fig, ax = plt.subplots(1, 2, figsize=(15, 15))\n",
    "ax[0].imshow(gamma)\n",
    "ax[1].imshow(gamma_)\n",
    "plt.show()"
   ]
  },
  {
   "cell_type": "code",
   "execution_count": 19,
   "id": "202ed50f",
   "metadata": {},
   "outputs": [
    {
     "data": {
      "text/plain": [
       "dict_keys(['cost', 'u', 'v', 'warning', 'result_code'])"
      ]
     },
     "execution_count": 19,
     "metadata": {},
     "output_type": "execute_result"
    }
   ],
   "source": [
    "log.keys()"
   ]
  },
  {
   "cell_type": "code",
   "execution_count": 21,
   "id": "2a3da712",
   "metadata": {},
   "outputs": [
    {
     "data": {
      "text/plain": [
       "1"
      ]
     },
     "execution_count": 21,
     "metadata": {},
     "output_type": "execute_result"
    }
   ],
   "source": [
    "log[\"result_code\"]"
   ]
  },
  {
   "cell_type": "code",
   "execution_count": 22,
   "id": "5f818d77",
   "metadata": {},
   "outputs": [
    {
     "data": {
      "text/plain": [
       "571.7511015714243"
      ]
     },
     "execution_count": 22,
     "metadata": {},
     "output_type": "execute_result"
    }
   ],
   "source": [
    "np.linalg.norm(mu1[10] - mu2[11])**2"
   ]
  },
  {
   "cell_type": "code",
   "execution_count": 23,
   "id": "39db4474",
   "metadata": {},
   "outputs": [
    {
     "data": {
      "text/plain": [
       "571.7511015714242"
      ]
     },
     "execution_count": 23,
     "metadata": {},
     "output_type": "execute_result"
    }
   ],
   "source": [
    "M[10, 11]"
   ]
  },
  {
   "cell_type": "code",
   "execution_count": 25,
   "id": "1b2637f9",
   "metadata": {},
   "outputs": [],
   "source": [
    "plt.imshow(M)\n",
    "plt.show()"
   ]
  },
  {
   "cell_type": "code",
   "execution_count": 30,
   "id": "e69a841e",
   "metadata": {},
   "outputs": [],
   "source": [
    "ot.plot.plot2D_samples_mat(mu1[:, :2], mu2[:, :2], gamma)\n",
    "plt.scatter(mu1[:, 0], mu1[:, 1])\n",
    "plt.scatter(mu2[:, 0], mu2[:, 1])\n",
    "plt.show()"
   ]
  },
  {
   "cell_type": "code",
   "execution_count": 34,
   "id": "b1cb8deb",
   "metadata": {},
   "outputs": [],
   "source": [
    "idx = np.argmax(gamma, axis=1)"
   ]
  },
  {
   "cell_type": "code",
   "execution_count": 35,
   "id": "c341e029",
   "metadata": {},
   "outputs": [
    {
     "data": {
      "text/plain": [
       "array([35, 83,  5, 23, 48, 90, 47, 46, 34, 25, 53, 94, 77, 73, 49, 42, 50,\n",
       "       56,  2, 95, 27, 58,  4, 36, 39, 17, 65, 91, 30,  7, 82,  6, 97, 16,\n",
       "       15, 62, 75, 22, 20, 57, 21, 66, 69, 98, 18, 86, 59, 74, 81,  8, 68,\n",
       "       31, 26, 54, 93, 85, 61,  9, 79, 78, 14, 12, 89,  0, 92, 88, 41, 13,\n",
       "       96, 87, 11, 76, 45, 70, 51, 40, 80, 71, 52, 33, 67, 19, 55, 72, 32,\n",
       "       63, 64, 24, 29, 38,  1, 99, 10, 60, 37,  3, 84, 43, 44, 28])"
      ]
     },
     "execution_count": 35,
     "metadata": {},
     "output_type": "execute_result"
    }
   ],
   "source": [
    "idx"
   ]
  },
  {
   "cell_type": "code",
   "execution_count": 38,
   "id": "018deda0",
   "metadata": {},
   "outputs": [
    {
     "name": "stdout",
     "output_type": "stream",
     "text": [
      "0.7674498675372825 1.0955465763063548\n"
     ]
    }
   ],
   "source": [
    "emin = 1 - np.min(M_ / M)\n",
    "emax = np.max(M_ / M) - 1\n",
    "print(emin, emax)"
   ]
  },
  {
   "cell_type": "code",
   "execution_count": 40,
   "id": "7b40fea6",
   "metadata": {},
   "outputs": [
    {
     "data": {
      "text/plain": [
       "2.0955465763063548"
      ]
     },
     "execution_count": 40,
     "metadata": {},
     "output_type": "execute_result"
    }
   ],
   "source": [
    "np.max(M_ / M)"
   ]
  },
  {
   "cell_type": "code",
   "execution_count": 41,
   "id": "4d66862e",
   "metadata": {},
   "outputs": [
    {
     "data": {
      "text/plain": [
       "9210.340371976185"
      ]
     },
     "execution_count": 41,
     "metadata": {},
     "output_type": "execute_result"
    }
   ],
   "source": [
    "20 * np.log(100) / 0.01"
   ]
  }
 ],
 "metadata": {
  "kernelspec": {
   "display_name": "Python 3 (ipykernel)",
   "language": "python",
   "name": "python3"
  },
  "language_info": {
   "codemirror_mode": {
    "name": "ipython",
    "version": 3
   },
   "file_extension": ".py",
   "mimetype": "text/x-python",
   "name": "python",
   "nbconvert_exporter": "python",
   "pygments_lexer": "ipython3",
   "version": "3.8.10"
  }
 },
 "nbformat": 4,
 "nbformat_minor": 5
}
