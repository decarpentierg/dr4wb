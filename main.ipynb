{
 "cells": [
  {
   "cell_type": "code",
   "execution_count": 29,
   "id": "3ed67ca9",
   "metadata": {},
   "outputs": [],
   "source": [
    "from main import *\n",
    "import ot.plot\n",
    "import matplotlib.pyplot as plt"
   ]
  },
  {
   "cell_type": "code",
   "execution_count": 15,
   "id": "6d465e95",
   "metadata": {},
   "outputs": [],
   "source": [
    "%matplotlib qt"
   ]
  },
  {
   "cell_type": "code",
   "execution_count": 7,
   "id": "17ec56d4",
   "metadata": {},
   "outputs": [
    {
     "data": {
      "text/plain": [
       "52214.07584145879"
      ]
     },
     "execution_count": 7,
     "metadata": {},
     "output_type": "execute_result"
    }
   ],
   "source": [
    "log[\"cost\"]"
   ]
  },
  {
   "cell_type": "code",
   "execution_count": 8,
   "id": "94e9072b",
   "metadata": {},
   "outputs": [
    {
     "data": {
      "text/plain": [
       "34921.60437129016"
      ]
     },
     "execution_count": 8,
     "metadata": {},
     "output_type": "execute_result"
    }
   ],
   "source": [
    "log_[\"cost\"]"
   ]
  },
  {
   "cell_type": "code",
   "execution_count": 44,
   "id": "7ad73d51",
   "metadata": {},
   "outputs": [
    {
     "data": {
      "text/plain": [
       "1.096872361823404"
      ]
     },
     "execution_count": 44,
     "metadata": {},
     "output_type": "execute_result"
    }
   ],
   "source": [
    "np.sum(gamma_ * M) / np.sum(gamma * M)"
   ]
  },
  {
   "cell_type": "code",
   "execution_count": 36,
   "id": "c1beba8e",
   "metadata": {},
   "outputs": [],
   "source": [
    "fig, ax = plt.subplots(1, 2, figsize=(15, 15))\n",
    "ax[0].imshow(gamma)\n",
    "ax[1].imshow(gamma_)\n",
    "plt.show()"
   ]
  },
  {
   "cell_type": "code",
   "execution_count": 19,
   "id": "b4803b60",
   "metadata": {},
   "outputs": [
    {
     "data": {
      "text/plain": [
       "dict_keys(['cost', 'u', 'v', 'warning', 'result_code'])"
      ]
     },
     "execution_count": 19,
     "metadata": {},
     "output_type": "execute_result"
    }
   ],
   "source": [
    "log.keys()"
   ]
  },
  {
   "cell_type": "code",
   "execution_count": 21,
   "id": "55d2fd15",
   "metadata": {},
   "outputs": [
    {
     "data": {
      "text/plain": [
       "1"
      ]
     },
     "execution_count": 21,
     "metadata": {},
     "output_type": "execute_result"
    }
   ],
   "source": [
    "log[\"result_code\"]"
   ]
  },
  {
   "cell_type": "code",
   "execution_count": 22,
   "id": "46bf5b38",
   "metadata": {},
   "outputs": [
    {
     "data": {
      "text/plain": [
       "571.7511015714243"
      ]
     },
     "execution_count": 22,
     "metadata": {},
     "output_type": "execute_result"
    }
   ],
   "source": [
    "np.linalg.norm(mu1[10] - mu2[11])**2"
   ]
  },
  {
   "cell_type": "code",
   "execution_count": 23,
   "id": "f7e0b69d",
   "metadata": {},
   "outputs": [
    {
     "data": {
      "text/plain": [
       "571.7511015714242"
      ]
     },
     "execution_count": 23,
     "metadata": {},
     "output_type": "execute_result"
    }
   ],
   "source": [
    "M[10, 11]"
   ]
  },
  {
   "cell_type": "code",
   "execution_count": 25,
   "id": "c8d29389",
   "metadata": {},
   "outputs": [],
   "source": [
    "plt.imshow(M)\n",
    "plt.show()"
   ]
  },
  {
   "cell_type": "code",
   "execution_count": 30,
   "id": "c903c8c5",
   "metadata": {},
   "outputs": [],
   "source": [
    "ot.plot.plot2D_samples_mat(mu1[:, :2], mu2[:, :2], gamma)\n",
    "plt.scatter(mu1[:, 0], mu1[:, 1])\n",
    "plt.scatter(mu2[:, 0], mu2[:, 1])\n",
    "plt.show()"
   ]
  },
  {
   "cell_type": "code",
   "execution_count": 34,
   "id": "a7b352cf",
   "metadata": {},
   "outputs": [],
   "source": [
    "idx = np.argmax(gamma, axis=1)"
   ]
  },
  {
   "cell_type": "code",
   "execution_count": 35,
   "id": "6d0637e8",
   "metadata": {},
   "outputs": [
    {
     "data": {
      "text/plain": [
       "array([35, 83,  5, 23, 48, 90, 47, 46, 34, 25, 53, 94, 77, 73, 49, 42, 50,\n",
       "       56,  2, 95, 27, 58,  4, 36, 39, 17, 65, 91, 30,  7, 82,  6, 97, 16,\n",
       "       15, 62, 75, 22, 20, 57, 21, 66, 69, 98, 18, 86, 59, 74, 81,  8, 68,\n",
       "       31, 26, 54, 93, 85, 61,  9, 79, 78, 14, 12, 89,  0, 92, 88, 41, 13,\n",
       "       96, 87, 11, 76, 45, 70, 51, 40, 80, 71, 52, 33, 67, 19, 55, 72, 32,\n",
       "       63, 64, 24, 29, 38,  1, 99, 10, 60, 37,  3, 84, 43, 44, 28])"
      ]
     },
     "execution_count": 35,
     "metadata": {},
     "output_type": "execute_result"
    }
   ],
   "source": [
    "idx"
   ]
  },
  {
   "cell_type": "code",
   "execution_count": 38,
   "id": "019a4880",
   "metadata": {},
   "outputs": [
    {
     "name": "stdout",
     "output_type": "stream",
     "text": [
      "0.7674498675372825 1.0955465763063548\n"
     ]
    }
   ],
   "source": [
    "emin = 1 - np.min(M_ / M)\n",
    "emax = np.max(M_ / M) - 1\n",
    "print(emin, emax)"
   ]
  },
  {
   "cell_type": "code",
   "execution_count": 40,
   "id": "f8315de6",
   "metadata": {},
   "outputs": [
    {
     "data": {
      "text/plain": [
       "2.0955465763063548"
      ]
     },
     "execution_count": 40,
     "metadata": {},
     "output_type": "execute_result"
    }
   ],
   "source": [
    "np.max(M_ / M)"
   ]
  },
  {
   "cell_type": "code",
   "execution_count": 41,
   "id": "2df3762e",
   "metadata": {},
   "outputs": [
    {
     "data": {
      "text/plain": [
       "9210.340371976185"
      ]
     },
     "execution_count": 41,
     "metadata": {},
     "output_type": "execute_result"
    }
   ],
   "source": [
    "20 * np.log(100) / 0.01"
   ]
  }
 ],
 "metadata": {
  "kernelspec": {
   "display_name": "Python 3 (ipykernel)",
   "language": "python",
   "name": "python3"
  },
  "language_info": {
   "codemirror_mode": {
    "name": "ipython",
    "version": 3
   },
   "file_extension": ".py",
   "mimetype": "text/x-python",
   "name": "python",
   "nbconvert_exporter": "python",
   "pygments_lexer": "ipython3",
   "version": "3.8.10"
  }
 },
 "nbformat": 4,
 "nbformat_minor": 5
}
