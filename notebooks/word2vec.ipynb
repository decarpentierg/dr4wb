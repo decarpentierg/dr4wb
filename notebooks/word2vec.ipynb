{
 "cells": [
  {
   "cell_type": "code",
   "execution_count": 1,
   "id": "fdc823ee",
   "metadata": {},
   "outputs": [],
   "source": [
    "import numpy as np\n",
    "import matplotlib.pyplot as plt\n",
    "from gensim.models import KeyedVectors"
   ]
  },
  {
   "cell_type": "code",
   "execution_count": 2,
   "id": "6196e254",
   "metadata": {},
   "outputs": [],
   "source": [
    "l1_vectors = KeyedVectors.load_word2vec_format(\"data/wiki.en.align.10k.vec\", binary=False)\n",
    "l2_vectors = KeyedVectors.load_word2vec_format(\"data/wiki.fr.align.10k.vec\", binary=False)"
   ]
  },
  {
   "cell_type": "code",
   "execution_count": 3,
   "id": "1da06ddd",
   "metadata": {},
   "outputs": [
    {
     "data": {
      "text/plain": [
       "0.325967"
      ]
     },
     "execution_count": 3,
     "metadata": {},
     "output_type": "execute_result"
    }
   ],
   "source": [
    "l1_vectors.get_vector(\"hello\") @ l2_vectors.get_vector(\"bonjour\")"
   ]
  }
 ],
 "metadata": {
  "kernelspec": {
   "display_name": "Python 3 (ipykernel)",
   "language": "python",
   "name": "python3"
  },
  "language_info": {
   "codemirror_mode": {
    "name": "ipython",
    "version": 3
   },
   "file_extension": ".py",
   "mimetype": "text/x-python",
   "name": "python",
   "nbconvert_exporter": "python",
   "pygments_lexer": "ipython3",
   "version": "3.8.10"
  }
 },
 "nbformat": 4,
 "nbformat_minor": 5
}
